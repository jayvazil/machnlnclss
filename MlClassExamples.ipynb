{
  "nbformat": 4,
  "nbformat_minor": 0,
  "metadata": {
    "colab": {
      "provenance": [],
      "authorship_tag": "ABX9TyPomMWwD7gFbNjhuA/crqcc",
      "include_colab_link": true
    },
    "kernelspec": {
      "name": "python3",
      "display_name": "Python 3"
    },
    "language_info": {
      "name": "python"
    }
  },
  "cells": [
    {
      "cell_type": "markdown",
      "metadata": {
        "id": "view-in-github",
        "colab_type": "text"
      },
      "source": [
        "<a href=\"https://colab.research.google.com/github/jayvazil/machnlnclss/blob/main/MlClassExamples.ipynb\" target=\"_parent\"><img src=\"https://colab.research.google.com/assets/colab-badge.svg\" alt=\"Open In Colab\"/></a>"
      ]
    },
    {
      "cell_type": "code",
      "execution_count": null,
      "metadata": {
        "id": "-uoaqrwM3ocs"
      },
      "outputs": [],
      "source": [
        "import pandas as pd\n",
        "import numpy as np\n",
        "import matplotlib.pyplot as plt\n"
      ]
    },
    {
      "cell_type": "code",
      "source": [
        "# Sample DataFrame with missing values\n",
        "data = {'A': [1, 2, np.nan, 4, 5],\n",
        "'B': [np.nan, 2, 3, np.nan, 5],\n",
        "'C': [1, 2, 3, 4, 5]}"
      ],
      "metadata": {
        "id": "op7EmsH54cmA"
      },
      "execution_count": null,
      "outputs": []
    },
    {
      "cell_type": "code",
      "source": [
        "df = pd.DataFrame(data)"
      ],
      "metadata": {
        "id": "kMqkp-Bt4lam"
      },
      "execution_count": null,
      "outputs": []
    },
    {
      "cell_type": "code",
      "source": [
        "# Display the original DataFrame\n",
        "print(\"Original DataFrame:\")\n",
        "print(df)\n",
        "\n"
      ],
      "metadata": {
        "colab": {
          "base_uri": "https://localhost:8080/"
        },
        "id": "tB1G1hMt44eK",
        "outputId": "cb676485-7461-4e0c-d29b-882579e3685b"
      },
      "execution_count": null,
      "outputs": [
        {
          "output_type": "stream",
          "name": "stdout",
          "text": [
            "Original DataFrame:\n",
            "     A    B  C\n",
            "0  1.0  NaN  1\n",
            "1  2.0  2.0  2\n",
            "2  NaN  3.0  3\n",
            "3  4.0  NaN  4\n",
            "4  5.0  5.0  5\n"
          ]
        }
      ]
    },
    {
      "cell_type": "code",
      "source": [
        "# Impute missing values using mean for numeric columns\n",
        "df['A'].fillna(df['A'].mean(), inplace=True)\n",
        "df['B'].fillna(df['B'].mean(), inplace=True)"
      ],
      "metadata": {
        "colab": {
          "base_uri": "https://localhost:8080/"
        },
        "id": "HvWQCnTp4_9E",
        "outputId": "7c43b157-f258-4b04-dc20-f5bb65a9d27c"
      },
      "execution_count": null,
      "outputs": [
        {
          "output_type": "stream",
          "name": "stderr",
          "text": [
            "/tmp/ipython-input-1956941193.py:2: FutureWarning: A value is trying to be set on a copy of a DataFrame or Series through chained assignment using an inplace method.\n",
            "The behavior will change in pandas 3.0. This inplace method will never work because the intermediate object on which we are setting values always behaves as a copy.\n",
            "\n",
            "For example, when doing 'df[col].method(value, inplace=True)', try using 'df.method({col: value}, inplace=True)' or df[col] = df[col].method(value) instead, to perform the operation inplace on the original object.\n",
            "\n",
            "\n",
            "  df['A'].fillna(df['A'].mean(), inplace=True)\n",
            "/tmp/ipython-input-1956941193.py:3: FutureWarning: A value is trying to be set on a copy of a DataFrame or Series through chained assignment using an inplace method.\n",
            "The behavior will change in pandas 3.0. This inplace method will never work because the intermediate object on which we are setting values always behaves as a copy.\n",
            "\n",
            "For example, when doing 'df[col].method(value, inplace=True)', try using 'df.method({col: value}, inplace=True)' or df[col] = df[col].method(value) instead, to perform the operation inplace on the original object.\n",
            "\n",
            "\n",
            "  df['B'].fillna(df['B'].mean(), inplace=True)\n"
          ]
        }
      ]
    },
    {
      "cell_type": "code",
      "source": [
        "# Display the DataFrame after imputation\n",
        "print(\"\\nDataFrame after imputation:\")\n",
        "print(df)"
      ],
      "metadata": {
        "colab": {
          "base_uri": "https://localhost:8080/"
        },
        "id": "m5ecO5tD5DeE",
        "outputId": "5af070f7-2b10-4c60-c4cf-0bbfe3db5841"
      },
      "execution_count": null,
      "outputs": [
        {
          "output_type": "stream",
          "name": "stdout",
          "text": [
            "\n",
            "DataFrame after imputation:\n",
            "     A         B  C\n",
            "0  1.0  3.333333  1\n",
            "1  2.0  2.000000  2\n",
            "2  3.0  3.000000  3\n",
            "3  4.0  3.333333  4\n",
            "4  5.0  5.000000  5\n"
          ]
        }
      ]
    },
    {
      "cell_type": "code",
      "source": [
        "ta = {'A': [1, 2, 2, 3, 4],\n",
        "'B': ['X', 'Y', 'Y', 'Z', 'Z']}\n",
        "df = pd.DataFrame(data)\n",
        "# Display the original DataFrame\n",
        "print(\"Original DataFrame:\")\n",
        "print(df)\n",
        "# Identify duplicate rows\n",
        "duplicates = df[df.duplicated()]\n",
        "# Display duplicate rows\n",
        "print(\"\\nDuplicate Rows:\")\n",
        "print(duplicates)\n",
        "# Remove duplicate rows (keep the first occurrence)\n",
        "df_no_duplicates = df.drop_duplicates()\n",
        "# Display the DataFrame without duplicates\n",
        "print(\"\\nDataFrame after removing duplicates:\")\n",
        "print(df_no_duplicates)"
      ],
      "metadata": {
        "colab": {
          "base_uri": "https://localhost:8080/"
        },
        "id": "SC8aTscG5KOH",
        "outputId": "497cf93a-541d-4388-e048-cab344f06b0b"
      },
      "execution_count": null,
      "outputs": [
        {
          "output_type": "stream",
          "name": "stdout",
          "text": [
            "Original DataFrame:\n",
            "     A    B  C\n",
            "0  1.0  NaN  1\n",
            "1  2.0  2.0  2\n",
            "2  NaN  3.0  3\n",
            "3  4.0  NaN  4\n",
            "4  5.0  5.0  5\n",
            "\n",
            "Duplicate Rows:\n",
            "Empty DataFrame\n",
            "Columns: [A, B, C]\n",
            "Index: []\n",
            "\n",
            "DataFrame after removing duplicates:\n",
            "     A    B  C\n",
            "0  1.0  NaN  1\n",
            "1  2.0  2.0  2\n",
            "2  NaN  3.0  3\n",
            "3  4.0  NaN  4\n",
            "4  5.0  5.0  5\n"
          ]
        }
      ]
    },
    {
      "cell_type": "code",
      "source": [
        "# Sample DataFrame with inconsistent data\n",
        "data = {'Category': ['Electronics', 'Electronics', 'electronics', 'Clothing', 'clothing'],\n",
        "'Price': [500, 600, 550, 40, 45]}\n",
        "df = pd.DataFrame(data)\n",
        "# Display the original DataFrame\n",
        "print(\"Original DataFrame:\")\n",
        "print(df)\n",
        "# Standardize inconsistent data\n",
        "# Convert 'Category' column to lowercase to standardize case\n",
        "df['Category'] = df['Category'].str.lower()\n",
        "# Display the DataFrame after standardizing data\n",
        "print(\"\\nDataFrame after handling inconsistent data:\")\n",
        "print(df)"
      ],
      "metadata": {
        "colab": {
          "base_uri": "https://localhost:8080/"
        },
        "id": "uvywDESY5kZ7",
        "outputId": "004aa4e8-5e5c-4c8a-f9f2-67c7f40921ae"
      },
      "execution_count": null,
      "outputs": [
        {
          "output_type": "stream",
          "name": "stdout",
          "text": [
            "Original DataFrame:\n",
            "      Category  Price\n",
            "0  Electronics    500\n",
            "1  Electronics    600\n",
            "2  electronics    550\n",
            "3     Clothing     40\n",
            "4     clothing     45\n",
            "\n",
            "DataFrame after handling inconsistent data:\n",
            "      Category  Price\n",
            "0  electronics    500\n",
            "1  electronics    600\n",
            "2  electronics    550\n",
            "3     clothing     40\n",
            "4     clothing     45\n"
          ]
        }
      ]
    },
    {
      "cell_type": "code",
      "source": [
        "# Sample DataFrame with outliers\n",
        "data = {'A': [10, 20, 30, 120, 25, 40, 50, 200, 60, 70]}\n",
        "df = pd.DataFrame(data)\n",
        "# Display the original DataFrame\n",
        "print(\"Original DataFrame:\")\n",
        "print(df)\n",
        "# Identify outliers using the Interquartile Range (IQR) method\n",
        "Q1 = df['A'].quantile(0.25)\n",
        "Q3 = df['A'].quantile(0.75)\n",
        "IQR = Q3 - Q1\n",
        "lower_bound = Q1 - 1.5 * IQR\n",
        "upper_bound = Q3 + 1.5 * IQR\n",
        "# Cap outliers by replacing them with the upper or lower bound\n",
        "df['A'] = np.where(df['A'] <lower_bound, lower_bound, df['A'])\n",
        "df['A'] = np.where(df['A'] >upper_bound, upper_bound, df['A'])\n",
        "# Display the DataFrame after handling outliers\n",
        "print(\"\\nDataFrame after handling outliers:\")\n",
        "print(df)"
      ],
      "metadata": {
        "colab": {
          "base_uri": "https://localhost:8080/"
        },
        "id": "5IUUKQOH5tY8",
        "outputId": "4820d765-97d6-4186-cb55-ce35a8ded867"
      },
      "execution_count": null,
      "outputs": [
        {
          "output_type": "stream",
          "name": "stdout",
          "text": [
            "Original DataFrame:\n",
            "     A\n",
            "0   10\n",
            "1   20\n",
            "2   30\n",
            "3  120\n",
            "4   25\n",
            "5   40\n",
            "6   50\n",
            "7  200\n",
            "8   60\n",
            "9   70\n",
            "\n",
            "DataFrame after handling outliers:\n",
            "         A\n",
            "0   10.000\n",
            "1   20.000\n",
            "2   30.000\n",
            "3  120.000\n",
            "4   25.000\n",
            "5   40.000\n",
            "6   50.000\n",
            "7  129.375\n",
            "8   60.000\n",
            "9   70.000\n"
          ]
        }
      ]
    },
    {
      "cell_type": "code",
      "source": [
        "from scipy.ndimage import gaussian_filter1d"
      ],
      "metadata": {
        "id": "f6rm9mir50OM"
      },
      "execution_count": null,
      "outputs": []
    },
    {
      "cell_type": "code",
      "source": [
        "# Generate a noisy signal\n",
        "np.random.seed(42)\n",
        "t = np.linspace(0, 1, 100)\n",
        "signal = np.sin(2 * np.pi * 5 * t) + 0.2 * np.random.randn(100)\n",
        "# Add impulsive noise (spikes)\n",
        "signal[30] += 2.0\n",
        "signal[70] -= 1.5\n",
        "# Plot the original signal with noise\n",
        "plt.figure(figsize=(10, 4))\n",
        "plt.subplot(1, 2, 1)\n",
        "plt.plot(t, signal, label='Original Signal with Noise')\n",
        "plt.title('Original Signal with Noise')\n",
        "plt.xlabel('Time')\n",
        "plt.ylabel('Amplitude')\n",
        "plt.legend()\n",
        "# Apply Gaussian filter for noise reduction\n",
        "smoothed_signal = gaussian_filter1d(signal, sigma=1)\n",
        "# Plot the smoothed signal\n",
        "plt.subplot(1, 2, 2)\n",
        "plt.plot(t, smoothed_signal, label='Smoothed Signal')\n",
        "plt.title('Smoothed Signal (Noise Reduction)')\n",
        "plt.xlabel('Time')\n",
        "plt.ylabel('Amplitude')\n",
        "plt.legend()\n",
        "plt.tight_layout()\n",
        "plt.show()"
      ],
      "metadata": {
        "colab": {
          "base_uri": "https://localhost:8080/"
        },
        "id": "5k73Hw-c6U4E",
        "outputId": "340058c6-4b15-4662-8b93-568a893579c3"
      },
      "execution_count": null,
      "outputs": [
        {
          "output_type": "display_data",
          "data": {
            "text/plain": [
              "<Figure size 1000x400 with 2 Axes>"
            ],
            "image/png": "[encoded data removed]"
          },
          "metadata": {}
        }
      ]
    },
    {
      "cell_type": "code",
      "source": [
        "# Sample DataFrame with a categorical column\n",
        "data = {'Category': ['A', 'B', 'A', 'C', 'B', 'A']}\n",
        "df = pd.DataFrame(data)\n",
        "# Display the original DataFrame\n",
        "print(\"Original DataFrame:\")\n",
        "print(df)\n",
        "# One-Hot Encoding\n",
        "one_hot_encoded_df = pd.get_dummies(df, columns=['Category'], prefix=['Category'])\n",
        "# Label Encoding (using category codes)\n",
        "label_encoded_df = df.copy()\n",
        "label_encoded_df['Category'] = df['Category'].astype('category').cat.codes\n",
        "# Binary Encoding (using category codes to binary)\n",
        "binary_encoded_df = df.copy()\n",
        "binary_encoded_df['Category'] = df['Category'].astype('category').cat.codes.apply(lambda x: bin(x)[2:].zfill(2))\n",
        "# Display the DataFrames after encoding\n",
        "print(\"\\nDataFrame after One-Hot Encoding:\")\n",
        "print(one_hot_encoded_df)\n",
        "print(\"\\nDataFrame after Label Encoding:\")\n",
        "print(label_encoded_df)\n",
        "print(\"\\nDataFrame after Binary Encoding:\")\n",
        "print(binary_encoded_df)"
      ],
      "metadata": {
        "colab": {
          "base_uri": "https://localhost:8080/"
        },
        "id": "sptN-pMn6hFF",
        "outputId": "0c35af07-a598-49ac-df68-ba42e8cd3080"
      },
      "execution_count": null,
      "outputs": [
        {
          "output_type": "stream",
          "name": "stdout",
          "text": [
            "Original DataFrame:\n",
            "  Category\n",
            "0        A\n",
            "1        B\n",
            "2        A\n",
            "3        C\n",
            "4        B\n",
            "5        A\n",
            "\n",
            "DataFrame after One-Hot Encoding:\n",
            "   Category_A  Category_B  Category_C\n",
            "0        True       False       False\n",
            "1       False        True       False\n",
            "2        True       False       False\n",
            "3       False       False        True\n",
            "4       False        True       False\n",
            "5        True       False       False\n",
            "\n",
            "DataFrame after Label Encoding:\n",
            "   Category\n",
            "0         0\n",
            "1         1\n",
            "2         0\n",
            "3         2\n",
            "4         1\n",
            "5         0\n",
            "\n",
            "DataFrame after Binary Encoding:\n",
            "  Category\n",
            "0       00\n",
            "1       01\n",
            "2       00\n",
            "3       10\n",
            "4       01\n",
            "5       00\n"
          ]
        }
      ]
    },
    {
      "cell_type": "code",
      "source": [
        "# Sample dataset with synthetic features\n",
        "data = {'Age': [25, 30, 35, 40, 45],\n",
        "'Income': [50000, 60000, 75000, 80000, 90000],\n",
        "'Education': ['High School', 'Bachelor', 'Master', 'PhD', 'Bachelor']}\n",
        "df = pd.DataFrame(data)\n",
        "# Display the original DataFrame\n",
        "print(\"Original DataFrame:\")\n",
        "print(df)\n",
        "# Feature Engineering: Create new features\n",
        "# 1. Age Group\n",
        "df['Age Group'] = pd.cut(df['Age'], bins=[0, 30, 40, np.inf], labels=['Young', 'Mid-Age', 'Old'])\n",
        "# 2. Income Level\n",
        "df['Income Level'] = pd.cut(df['Income'], bins=[0, 60000, 80000, np.inf], labels=['Low', 'Medium', 'High'])\n",
        "# 3. Binary Education Indicator (Bachelor's degree or higher)\n",
        "df['Bachelor or Higher'] = (df['Education'] != 'High School').astype(int)\n",
        "# Display the DataFrame after feature engineering\n",
        "print(\"\\nDataFrame after feature engineering:\")\n",
        "print(df)"
      ],
      "metadata": {
        "colab": {
          "base_uri": "https://localhost:8080/"
        },
        "id": "ZpvLY1NP64-z",
        "outputId": "b30effab-3ec6-423e-fc91-f212be8dc595"
      },
      "execution_count": null,
      "outputs": [
        {
          "output_type": "stream",
          "name": "stdout",
          "text": [
            "Original DataFrame:\n",
            "   Age  Income    Education\n",
            "0   25   50000  High School\n",
            "1   30   60000     Bachelor\n",
            "2   35   75000       Master\n",
            "3   40   80000          PhD\n",
            "4   45   90000     Bachelor\n",
            "\n",
            "DataFrame after feature engineering:\n",
            "   Age  Income    Education Age Group Income Level  Bachelor or Higher\n",
            "0   25   50000  High School     Young          Low                   0\n",
            "1   30   60000     Bachelor     Young          Low                   1\n",
            "2   35   75000       Master   Mid-Age       Medium                   1\n",
            "3   40   80000          PhD   Mid-Age       Medium                   1\n",
            "4   45   90000     Bachelor       Old         High                   1\n"
          ]
        }
      ]
    },
    {
      "cell_type": "code",
      "source": [
        "# Generate a large sample dataset\n",
        "data = {'Feature1': np.random.rand(100000),\n",
        "'Feature2': np.random.rand(100000),\n",
        "'Feature3': np.random.rand(100000)}\n",
        "df = pd.DataFrame(data)\n",
        "# Display the size of the original dataset\n",
        "print(\"Original Dataset Size:\", df.shape)\n",
        "# Randomly sample a fraction of the data (for example, 10%)\n",
        "sampled_df = df.sample(frac=0.10, random_state=42)\n",
        "# Display the size of the reduced dataset\n",
        "print(\"Reduced Dataset Size:\", sampled_df.shape)"
      ],
      "metadata": {
        "colab": {
          "base_uri": "https://localhost:8080/"
        },
        "id": "kdjoV4pF7EVY",
        "outputId": "3cdf013b-9ae8-4753-a739-b98f10e7f911"
      },
      "execution_count": null,
      "outputs": [
        {
          "output_type": "stream",
          "name": "stdout",
          "text": [
            "Original Dataset Size: (100000, 3)\n",
            "Reduced Dataset Size: (10000, 3)\n"
          ]
        }
      ]
    },
    {
      "cell_type": "code",
      "source": [
        "# Sample DataFrame with a datetime column\n",
        "data = {'Date': ['2022-01-15', '2022-02-20', '2022-03-25'],\n",
        "'Event': ['Event A', 'Event B', 'Event C']}\n",
        "df = pd.DataFrame(data)\n",
        "# Convert 'Date' column to datetime format\n",
        "df['Date'] = pd.to_datetime(df['Date'])\n",
        "# Display the original DataFrame\n",
        "print(\"Original DataFrame:\")\n",
        "print(df)\n",
        "# Datetime transformations\n",
        "# Extract year, month, and day\n",
        "df['Year'] = df['Date'].dt.year\n",
        "df['Month'] = df['Date'].dt.month\n",
        "df['Day'] = df['Date'].dt.day\n",
        "# Calculate time duration since a reference date\n",
        "reference_date = pd.to_datetime('2022-01-01')\n",
        "df['Days Since Reference'] = (df['Date'] - reference_date).dt.days\n",
        "# Display the DataFrame after datetime transformations\n",
        "print(\"\\nDataFrame after Datetime Transformations:\")\n",
        "print(df)"
      ],
      "metadata": {
        "colab": {
          "base_uri": "https://localhost:8080/"
        },
        "id": "f6nuewiv7LYs",
        "outputId": "95ea86af-2fd6-4aed-d42c-6915433f993e"
      },
      "execution_count": null,
      "outputs": [
        {
          "output_type": "stream",
          "name": "stdout",
          "text": [
            "Original DataFrame:\n",
            "        Date    Event\n",
            "0 2022-01-15  Event A\n",
            "1 2022-02-20  Event B\n",
            "2 2022-03-25  Event C\n",
            "\n",
            "DataFrame after Datetime Transformations:\n",
            "        Date    Event  Year  Month  Day  Days Since Reference\n",
            "0 2022-01-15  Event A  2022      1   15                    14\n",
            "1 2022-02-20  Event B  2022      2   20                    50\n",
            "2 2022-03-25  Event C  2022      3   25                    83\n"
          ]
        }
      ]
    },
    {
      "cell_type": "code",
      "source": [
        "# Sample dataset with positive values\n",
        "data = np.array([1, 2, 5, 10, 20, 50, 100])\n",
        "# Logarithmic transformation\n",
        "transformed_data = np.log(data)\n",
        "# Display the original and transformed data\n",
        "print(\"Original Data:\")\n",
        "print(data)\n",
        "print(\"\\nTransformed Data (Log Transformation):\")\n",
        "print(transformed_data)"
      ],
      "metadata": {
        "colab": {
          "base_uri": "https://localhost:8080/"
        },
        "id": "dEo_yaM57fOg",
        "outputId": "2db79748-b743-482a-d1de-a0745630f618"
      },
      "execution_count": null,
      "outputs": [
        {
          "output_type": "stream",
          "name": "stdout",
          "text": [
            "Original Data:\n",
            "[  1   2   5  10  20  50 100]\n",
            "\n",
            "Transformed Data (Log Transformation):\n",
            "[0.         0.69314718 1.60943791 2.30258509 2.99573227 3.91202301\n",
            " 4.60517019]\n"
          ]
        }
      ]
    },
    {
      "cell_type": "code",
      "source": [
        "# Sample data from two different sources\n",
        "data_source1 = {'ID': [1, 2, 3],\n",
        "'Name': ['Alice', 'Bob', 'Carol']}\n",
        "data_source2 = {'ID': [4, 5, 6],\n",
        "'Name': ['Dave', 'Eve', 'Frank']}"
      ],
      "metadata": {
        "id": "4Nwwwo9S7ntv"
      },
      "execution_count": null,
      "outputs": []
    },
    {
      "cell_type": "code",
      "source": [
        "# Create DataFrames from the two sources\n",
        "df1 = pd.DataFrame(data_source1)\n",
        "df2 = pd.DataFrame(data_source2)\n",
        "# Concatenate or merge the DataFrames to perform data integration\n",
        "integrated_df = pd.concat([df1, df2], ignore_index=True)\n",
        "# Display the integrated DataFrame\n",
        "print(integrated_df)"
      ],
      "metadata": {
        "colab": {
          "base_uri": "https://localhost:8080/"
        },
        "id": "6f9OMgzU7vIw",
        "outputId": "3de1f4ba-8926-4587-9425-1ce6e359a8c7"
      },
      "execution_count": null,
      "outputs": [
        {
          "output_type": "stream",
          "name": "stdout",
          "text": [
            "   ID   Name\n",
            "0   1  Alice\n",
            "1   2    Bob\n",
            "2   3  Carol\n",
            "3   4   Dave\n",
            "4   5    Eve\n",
            "5   6  Frank\n"
          ]
        }
      ]
    },
    {
      "cell_type": "code",
      "source": [
        "# Sample data\n",
        "data = {'Date': ['2021-01-01', '2021-01-01', '2021-01-02', '2021-01-02'],\n",
        "'Sales': [1000, 1200, 800, 900]}\n",
        "df = pd.DataFrame(data)\n",
        "# Display the original DataFrame\n",
        "print(\"Original DataFrame:\")\n",
        "print(df)\n",
        "# Data aggregation: Sum of sales by date\n",
        "aggregated_df = df.groupby('Date')['Sales'].sum().reset_index()\n",
        "# Display the aggregated DataFrame\n",
        "print(\"\\nAggregatedDataFrame (Sum of Sales by Date):\")\n",
        "print(aggregated_df)"
      ],
      "metadata": {
        "colab": {
          "base_uri": "https://localhost:8080/"
        },
        "id": "AHGbrdUn71xP",
        "outputId": "c844926f-a26f-48cc-8562-8918bc6ab190"
      },
      "execution_count": null,
      "outputs": [
        {
          "output_type": "stream",
          "name": "stdout",
          "text": [
            "Original DataFrame:\n",
            "         Date  Sales\n",
            "0  2021-01-01   1000\n",
            "1  2021-01-01   1200\n",
            "2  2021-01-02    800\n",
            "3  2021-01-02    900\n",
            "\n",
            "AggregatedDataFrame (Sum of Sales by Date):\n",
            "         Date  Sales\n",
            "0  2021-01-01   2200\n",
            "1  2021-01-02   1700\n"
          ]
        }
      ]
    },
    {
      "cell_type": "code",
      "source": [
        "from sklearn.model_selection import train_test_split\n",
        "# Sample dataset (features and labels)\n",
        "X = np.random.rand(100, 2) # 100 samples with 2 features\n",
        "y = np.random.randint(0, 2, 100) # Binary labels (0 or 1)\n",
        "# Split the data into training, validation, and test sets\n",
        "X_train, X_temp, y_train, y_temp = train_test_split(X, y, test_size=0.4, random_state=42)\n",
        "X_valid, X_test, y_valid, y_test = train_test_split(X_temp, y_temp, test_size=0.5, random_state=42)\n",
        "# Display the sizes of the resulting sets\n",
        "print(\"Training set size:\", X_train.shape[0])\n",
        "print(\"Validation set size:\", X_valid.shape[0])\n",
        "print(\"Test set size:\", X_test.shape[0])"
      ],
      "metadata": {
        "colab": {
          "base_uri": "https://localhost:8080/"
        },
        "id": "Y_E_bM0f8Jmz",
        "outputId": "cb1d74c5-c42f-4677-e223-8a676db22afc"
      },
      "execution_count": null,
      "outputs": [
        {
          "output_type": "stream",
          "name": "stdout",
          "text": [
            "Training set size: 60\n",
            "Validation set size: 20\n",
            "Test set size: 20\n"
          ]
        }
      ]
    },
    {
      "cell_type": "code",
      "source": [
        "from sklearn.pre-processing import MinMaxScaler\n",
        "# Sample data\n",
        "data = np.array([[10, 20],\n",
        "[15, 30],\n",
        "[5, 10],\n",
        "[25, 40]])\n",
        "# Create a MinMaxScaler instance\n",
        "scaler = MinMaxScaler()\n",
        "# Fit the scaler to the data and transform the data\n",
        "normalized_data = scaler.fit_transform(data)\n",
        "# Display the normalized data\n",
        "print(\"Normalized Data:\")\n",
        "print(normalized_data)"
      ],
      "metadata": {
        "colab": {
          "base_uri": "https://localhost:8080/"
        },
        "id": "Hqupjb8Z8R5B",
        "outputId": "08ed5627-a62f-4c14-fa5d-3e8dd09afddf"
      },
      "execution_count": null,
      "outputs": [
        {
          "output_type": "error",
          "ename": "SyntaxError",
          "evalue": "invalid syntax (ipython-input-3781303073.py, line 1)",
          "traceback": [
            "\u001b[0;36m  File \u001b[0;32m\"/tmp/ipython-input-3781303073.py\"\u001b[0;36m, line \u001b[0;32m1\u001b[0m\n\u001b[0;31m    from sklearn.pre-processing import MinMaxScaler\u001b[0m\n\u001b[0m                    ^\u001b[0m\n\u001b[0;31mSyntaxError\u001b[0m\u001b[0;31m:\u001b[0m invalid syntax\n"
          ]
        }
      ]
    },
    {
      "cell_type": "code",
      "source": [
        "from sklearn.pre-processing import StandardScaler\n",
        "# Sample data\n",
        "data = np.array([[10, 20],\n",
        "[15, 30],\n",
        "[5, 10],\n",
        "[25, 40]])\n",
        "# Create a StandardScaler instance\n",
        "scaler = StandardScaler()\n",
        "# Fit the scaler to the data and transform the data\n",
        "standardized_data = scaler.fit_transform(data)\n",
        "# Display the standardized data\n",
        "print(\"Standardized Data:\")\n",
        "print(standardized_data)"
      ],
      "metadata": {
        "colab": {
          "base_uri": "https://localhost:8080/"
        },
        "id": "oqzeyTBg8ba7",
        "outputId": "0fcc4100-e392-4eef-903e-7c40ac8ebbcb"
      },
      "execution_count": null,
      "outputs": [
        {
          "output_type": "error",
          "ename": "SyntaxError",
          "evalue": "invalid syntax (ipython-input-2200430290.py, line 1)",
          "traceback": [
            "\u001b[0;36m  File \u001b[0;32m\"/tmp/ipython-input-2200430290.py\"\u001b[0;36m, line \u001b[0;32m1\u001b[0m\n\u001b[0;31m    from sklearn.pre-processing import StandardScaler\u001b[0m\n\u001b[0m                    ^\u001b[0m\n\u001b[0;31mSyntaxError\u001b[0m\u001b[0;31m:\u001b[0m invalid syntax\n"
          ]
        }
      ]
    },
    {
      "cell_type": "code",
      "source": [
        "# Sample DataFrame with mixed data formats\n",
        "data = {'Date': ['2021-01-15', '2021-02-20', '2021-03-25'],\n",
        "'Amount': ['$100.50', '200.75 USD', '300.00'],\n",
        "'Quantity': ['5', '3', '7.5 kg']}\n",
        "df = pd.DataFrame(data)\n",
        "# Display the original DataFrame\n",
        "print(\"Original DataFrame:\")\n",
        "print(df)\n",
        "# Standardize data formats\n",
        "# Convert 'Date' column to datetime format\n",
        "df['Date'] = pd.to_datetime(df['Date'])\n",
        "# Remove non-numeric characters and convert 'Amount' column to float\n",
        "df['Amount'] = df['Amount'].replace('[\\$,]', '', regex=True)\n",
        "# Remove non-numeric characters and convert 'Quantity' column to float\n",
        "df['Quantity'] = df['Quantity'].replace('[a-zA-Z\\,]', '', regex=True).astype(float)\n",
        "# Display the DataFrame after standardizing data formats\n",
        "print(\"\\nDataFrame after standardizing data formats:\")\n",
        "print(df)"
      ],
      "metadata": {
        "colab": {
          "base_uri": "https://localhost:8080/"
        },
        "id": "E9gilKAb8mAi",
        "outputId": "0b28e4ad-d02e-42f6-bc8a-abe76b703aa9"
      },
      "execution_count": null,
      "outputs": [
        {
          "output_type": "stream",
          "name": "stdout",
          "text": [
            "Original DataFrame:\n",
            "         Date      Amount Quantity\n",
            "0  2021-01-15     $100.50        5\n",
            "1  2021-02-20  200.75 USD        3\n",
            "2  2021-03-25      300.00   7.5 kg\n",
            "\n",
            "DataFrame after standardizing data formats:\n",
            "        Date      Amount  Quantity\n",
            "0 2021-01-15      100.50       5.0\n",
            "1 2021-02-20  200.75 USD       3.0\n",
            "2 2021-03-25      300.00       7.5\n"
          ]
        },
        {
          "output_type": "stream",
          "name": "stderr",
          "text": [
            "<>:13: SyntaxWarning: invalid escape sequence '\\$'\n",
            "<>:15: SyntaxWarning: invalid escape sequence '\\,'\n",
            "<>:13: SyntaxWarning: invalid escape sequence '\\$'\n",
            "<>:15: SyntaxWarning: invalid escape sequence '\\,'\n",
            "/tmp/ipython-input-2332238673.py:13: SyntaxWarning: invalid escape sequence '\\$'\n",
            "  df['Amount'] = df['Amount'].replace('[\\$,]', '', regex=True)\n",
            "/tmp/ipython-input-2332238673.py:15: SyntaxWarning: invalid escape sequence '\\,'\n",
            "  df['Quantity'] = df['Quantity'].replace('[a-zA-Z\\,]', '', regex=True).astype(float)\n"
          ]
        }
      ]
    },
    {
      "cell_type": "code",
      "source": [
        "# Import necessary libraries\n",
        "from sklearn.feature_extraction.text import CountVectorizer\n",
        "from sklearn.model_selection import train_test_split\n",
        "from sklearn.naive_bayes import MultinomialNB\n",
        "from sklearn.metrics import accuracy_score, classification_report\n",
        "# Sample text data\n",
        "corpus = [\n",
        "'This is a positive example.',\n",
        "'I love working with Machine Learning.',\n",
        "'Text data pre-processing is important for ML.',\n",
        "'Negative examples can be challenging too.',\n",
        "'Machine learning models learn from data.'\n",
        "]\n",
        "# Corresponding labels (0 for negative, 1 for positive)\n",
        "labels = [1, 1, 1, 0, 1]\n",
        "# Split the data into training and testing sets\n",
        "X_train, X_test, y_train, y_test = train_test_split(corpus, labels, test_size=0.2, random_state=42)\n",
        "# Text vectorization using Bag-of-Words (CountVectorizer)\n",
        "vectorizer = CountVectorizer()\n",
        "X_train_vectorized = vectorizer.fit_transform(X_train)\n",
        "X_test_vectorized = vectorizer.transform(X_test)\n",
        "# Train a simple classifier (Naive Bayes in this case)\n",
        "classifier = MultinomialNB()\n",
        "classifier.fit(X_train_vectorized, y_train)\n",
        "# Make predictions on the test set\n",
        "predictions = classifier.predict(X_test_vectorized)\n",
        "# Evaluate the classifier\n",
        "accuracy = accuracy_score(y_test, predictions)\n",
        "report = classification_report(y_test, predictions)\n",
        "# Print the results\n",
        "print(f\"Accuracy: {accuracy:.2f}\")\n",
        "print(\"\\nClassification Report:\\n\", report)"
      ],
      "metadata": {
        "colab": {
          "base_uri": "https://localhost:8080/"
        },
        "id": "2t_6VQSI8ssr",
        "outputId": "b61e8364-45ec-4676-abc6-627fc5a49572"
      },
      "execution_count": null,
      "outputs": [
        {
          "output_type": "stream",
          "name": "stdout",
          "text": [
            "Accuracy: 1.00\n",
            "\n",
            "Classification Report:\n",
            "               precision    recall  f1-score   support\n",
            "\n",
            "           1       1.00      1.00      1.00         1\n",
            "\n",
            "    accuracy                           1.00         1\n",
            "   macro avg       1.00      1.00      1.00         1\n",
            "weighted avg       1.00      1.00      1.00         1\n",
            "\n"
          ]
        }
      ]
    },
    {
      "cell_type": "code",
      "source": [
        "# Sample data\n",
        "data = {'Age': [25, 30, 35, 40, 45, 50, 55, 60, 65, 70],\n",
        "'Income': [50000, 60000, 75000, 80000, 90000, 100000, 110000, 120000, 130000, 140000]}\n",
        "df = pd.DataFrame(data)\n",
        "# Display the original DataFrame\n",
        "print(\"Original DataFrame:\")\n",
        "print(df)\n",
        "# Binning and Discretization for 'Age'\n",
        "age_bins = [20, 40, 60, 80] # Define bin edges\n",
        "age_labels = ['Young', 'Mid-Age', 'Old'] # Labels for bins\n",
        "df['Age Group'] = pd.cut(df['Age'], bins=age_bins, labels=age_labels)\n",
        "# Binning and Discretization for 'Income'\n",
        "income_bins = [40000, 80000, 120000, 160000] # Define bin edges\n",
        "income_labels = ['Low', 'Medium', 'High'] # Labels for bins\n",
        "df['Income Level'] = pd.cut(df['Income'], bins=income_bins, labels=income_labels)\n",
        "# Display the DataFrame after binning and discretization\n",
        "print(\"\\nDataFrame after Binning and Discretization:\")\n",
        "print(df)"
      ],
      "metadata": {
        "colab": {
          "base_uri": "https://localhost:8080/"
        },
        "id": "FlsSg5ol860F",
        "outputId": "072d802b-f0e3-4094-8189-f75debd3c0a6"
      },
      "execution_count": null,
      "outputs": [
        {
          "output_type": "stream",
          "name": "stdout",
          "text": [
            "Original DataFrame:\n",
            "   Age  Income\n",
            "0   25   50000\n",
            "1   30   60000\n",
            "2   35   75000\n",
            "3   40   80000\n",
            "4   45   90000\n",
            "5   50  100000\n",
            "6   55  110000\n",
            "7   60  120000\n",
            "8   65  130000\n",
            "9   70  140000\n",
            "\n",
            "DataFrame after Binning and Discretization:\n",
            "   Age  Income Age Group Income Level\n",
            "0   25   50000     Young          Low\n",
            "1   30   60000     Young          Low\n",
            "2   35   75000     Young          Low\n",
            "3   40   80000     Young          Low\n",
            "4   45   90000   Mid-Age       Medium\n",
            "5   50  100000   Mid-Age       Medium\n",
            "6   55  110000   Mid-Age       Medium\n",
            "7   60  120000   Mid-Age       Medium\n",
            "8   65  130000       Old         High\n",
            "9   70  140000       Old         High\n"
          ]
        }
      ]
    },
    {
      "cell_type": "code",
      "source": [],
      "metadata": {
        "id": "zbQFTS1S9Mud"
      },
      "execution_count": null,
      "outputs": []
    }
  ]
}